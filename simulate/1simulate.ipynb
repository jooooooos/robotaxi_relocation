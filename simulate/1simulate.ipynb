{
 "cells": [
  {
   "cell_type": "code",
   "execution_count": 1,
   "metadata": {},
   "outputs": [],
   "source": [
    "import os\n",
    "from tqdm.notebook import tqdm\n",
    "import numpy as np\n",
    "import pandas as pd\n",
    "\n",
    "from multiprocessing import Pool\n",
    "from utils import (\n",
    "    prepare_arrival_events_from_real_data,\n",
    "    run_all_simulations_for_seed,\n",
    ")\n",
    "from constants import taxi_type"
   ]
  },
  {
   "cell_type": "markdown",
   "metadata": {},
   "source": [
    "# ⚙️ Simulation Configuration\n",
    "\n",
    "Define key parameters for the simulation:\n",
    "- `Delta`: length of time blocks in minutes\n",
    "- `max_time`: total simulation duration (hours)\n",
    "- `N`: number of taxis in the fleet\n",
    "- `eta`: hyperparameter for JLCR policy\n",
    "- `lookahead_options`: defines which Q-matrix files (for lookahead) to use in some modes"
   ]
  },
  {
   "cell_type": "code",
   "execution_count": 2,
   "metadata": {},
   "outputs": [],
   "source": [
    "Delta = 20  # in minutes\n",
    "max_time = 48  # hours\n",
    "N = 8000\n",
    "start_time = pd.Timestamp(\"2025-01-02 08:00:00\")\n",
    "eta = 0.5\n",
    "lookahead_options = [2, 4, 8]"
   ]
  },
  {
   "cell_type": "markdown",
   "metadata": {},
   "source": [
    "# 📊 Load Demand and Travel Parameters\n",
    "\n",
    "This block loads:\n",
    "- `trip_counts`: counts of trips for computing λ and P\n",
    "- `mu_`: average travel rates\n",
    "It computes:\n",
    "- `lambda_`: arrival rate by region and time\n",
    "- `P`: destination distribution by region and time\n",
    "Also initializes `Q_base`, which encodes no relocation (identity matrix)."
   ]
  },
  {
   "cell_type": "code",
   "execution_count": 3,
   "metadata": {},
   "outputs": [],
   "source": [
    "with np.load(\"../nyc_trip/trip_counts.npz\") as data:\n",
    "    trip_counts = data[\"trip_counts\"]\n",
    "    num_dates = data[\"num_dates\"]\n",
    "\n",
    "with np.load('../nyc_trip/mu_cp_clipped.npz') as data:\n",
    "    mu = data['mu']\n",
    "\n",
    "trip_counts[trip_counts == 0] = 1\n",
    "lambda_ = trip_counts.sum(axis=2) / (Delta / 60 * num_dates)\n",
    "P = trip_counts / trip_counts.sum(axis=2, keepdims=True)\n",
    "\n",
    "T, R, _ = P.shape\n",
    "Q_base = np.array([np.identity(R) for _ in range(T)])\n",
    "\n",
    "# # read Q_matrix file\n",
    "# with np.load('../nyc_trip/Qs_8_clipping.npz') as data:\n",
    "#     Q = data['Qs']"
   ]
  },
  {
   "cell_type": "markdown",
   "metadata": {},
   "source": [
    "# 🚖 Load Observed Demand Data\n",
    "\n",
    "This block loads the real NYC trip data:\n",
    "- It finds one file based on `taxi_type`\n",
    "- It extracts 3 consecutive weekdays of trips using `prepare_arrival_events_from_real_data()`\n",
    "These trips are later used for the real-demand simulation mode.\n",
    "\n",
    "Change data_dir where you saved the parquet file. They should look like: `fhv_tripdata_2023-01.parquet`. If you don't have one, download one [here](https://www.nyc.gov/site/tlc/about/tlc-trip-record-data.page)"
   ]
  },
  {
   "cell_type": "code",
   "execution_count": 4,
   "metadata": {},
   "outputs": [],
   "source": [
    "data_dir = \"../nyc_trip/data\"\n",
    "filenames = os.listdir(data_dir)\n",
    "filenames = [fn for fn in filenames if fn.startswith(taxi_type)]\n",
    "file = filenames[0]\n",
    "\n",
    "df = pd.read_parquet(f\"../nyc_trip/data/{file}\")\n",
    "arrival_events = prepare_arrival_events_from_real_data(df)"
   ]
  },
  {
   "cell_type": "code",
   "execution_count": null,
   "metadata": {},
   "outputs": [],
   "source": []
  },
  {
   "cell_type": "markdown",
   "metadata": {},
   "source": [
    "# 🚀 Run Simulations in Parallel\n",
    "\n",
    "This block launches simulations across 20 seeds using multiprocessing.\n",
    "Each call to `run_all_simulations_for_seed(...)` will:\n",
    "- Run 12 simulation modes (2 demand × 6 relocation)\n",
    "- Save each resulting log under `sim_outputs/{seed}/...`\n",
    "The total of 240 runs (20×12) are processed in parallel using a 6-core pool.\n"
   ]
  },
  {
   "cell_type": "code",
   "execution_count": 5,
   "metadata": {},
   "outputs": [
    {
     "name": "stdout",
     "output_type": "stream",
     "text": [
      "[Seed 0] finished: real / no_reloc\n",
      "[Seed 1] finished: real / no_reloc\n",
      "[Seed 2] finished: real / no_reloc\n",
      "[Seed 3] finished: real / no_reloc\n",
      "[Seed 4] finished: real / no_reloc\n",
      "[Seed 3] finished: real / JLCR\n",
      "[Seed 0] finished: real / JLCR\n",
      "[Seed 2] finished: real / JLCR\n",
      "[Seed 1] finished: real / JLCR\n",
      "[Seed 4] finished: real / JLCR\n",
      "[Seed 3] finished: real / shortest_wait\n",
      "[Seed 0] finished: real / shortest_wait\n",
      "[Seed 2] finished: real / shortest_wait\n",
      "[Seed 4] finished: real / shortest_wait\n",
      "[Seed 1] finished: real / shortest_wait\n",
      "[Seed 3] finished: real / Q_2\n",
      "[Seed 0] finished: real / Q_2\n",
      "[Seed 2] finished: real / Q_2\n",
      "[Seed 4] finished: real / Q_2\n",
      "[Seed 1] finished: real / Q_2\n",
      "[Seed 3] finished: real / Q_4\n",
      "[Seed 0] finished: real / Q_4\n",
      "[Seed 2] finished: real / Q_4\n",
      "[Seed 4] finished: real / Q_4\n",
      "[Seed 1] finished: real / Q_4\n",
      "[Seed 3] finished: real / Q_8\n",
      "[Seed 0] finished: real / Q_8\n",
      "[Seed 2] finished: real / Q_8\n",
      "[Seed 4] finished: real / Q_8\n",
      "[Seed 1] finished: real / Q_8\n",
      "[Seed 3] finished: synthetic / no_reloc\n",
      "[Seed 0] finished: synthetic / no_reloc\n",
      "[Seed 2] finished: synthetic / no_reloc\n",
      "[Seed 4] finished: synthetic / no_reloc\n",
      "[Seed 1] finished: synthetic / no_reloc\n",
      "[Seed 3] finished: synthetic / JLCR\n",
      "[Seed 0] finished: synthetic / JLCR\n",
      "[Seed 2] finished: synthetic / JLCR\n",
      "[Seed 4] finished: synthetic / JLCR\n",
      "[Seed 1] finished: synthetic / JLCR\n",
      "[Seed 3] finished: synthetic / shortest_wait\n",
      "[Seed 2] finished: synthetic / shortest_wait\n",
      "[Seed 0] finished: synthetic / shortest_wait\n",
      "[Seed 4] finished: synthetic / shortest_wait\n",
      "[Seed 3] finished: synthetic / Q_2\n",
      "[Seed 1] finished: synthetic / shortest_wait\n",
      "[Seed 2] finished: synthetic / Q_2\n",
      "[Seed 0] finished: synthetic / Q_2\n",
      "[Seed 4] finished: synthetic / Q_2\n",
      "[Seed 1] finished: synthetic / Q_2\n",
      "[Seed 3] finished: synthetic / Q_4\n",
      "[Seed 2] finished: synthetic / Q_4\n",
      "[Seed 0] finished: synthetic / Q_4\n",
      "[Seed 4] finished: synthetic / Q_4\n",
      "[Seed 1] finished: synthetic / Q_4\n",
      "[Seed 3] finished: synthetic / Q_8\n",
      "[Seed 2] finished: synthetic / Q_8\n",
      "[Seed 0] finished: synthetic / Q_8\n",
      "[Seed 4] finished: synthetic / Q_8\n",
      "[Seed 1] finished: synthetic / Q_8\n"
     ]
    },
    {
     "data": {
      "application/vnd.jupyter.widget-view+json": {
       "model_id": "1ad8ce66c7ed4bc4a74503a27720ab32",
       "version_major": 2,
       "version_minor": 0
      },
      "text/plain": [
       "  0%|          | 0/5 [00:00<?, ?it/s]"
      ]
     },
     "metadata": {},
     "output_type": "display_data"
    }
   ],
   "source": [
    "# Launch multiprocessing pool\n",
    "num_repeats = 5\n",
    "args = [\n",
    "    (\n",
    "        seed,\n",
    "        lambda_, mu, P, Q_base, arrival_events,\n",
    "        T, R, N, max_time\n",
    "    )\n",
    "    for seed in range(num_repeats)\n",
    "]\n",
    "\n",
    "with Pool(processes=5) as pool:\n",
    "    for _ in tqdm(pool.starmap(run_all_simulations_for_seed, args), total=len(args)):\n",
    "        pass\n"
   ]
  },
  {
   "cell_type": "code",
   "execution_count": null,
   "metadata": {},
   "outputs": [],
   "source": []
  }
 ],
 "metadata": {
  "kernelspec": {
   "display_name": "nyc",
   "language": "python",
   "name": "python3"
  },
  "language_info": {
   "codemirror_mode": {
    "name": "ipython",
    "version": 3
   },
   "file_extension": ".py",
   "mimetype": "text/x-python",
   "name": "python",
   "nbconvert_exporter": "python",
   "pygments_lexer": "ipython3",
   "version": "3.9.21"
  }
 },
 "nbformat": 4,
 "nbformat_minor": 2
}
